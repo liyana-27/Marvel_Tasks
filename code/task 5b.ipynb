{
 "cells": [
  {
   "cell_type": "code",
   "execution_count": 125,
   "id": "3502fe69",
   "metadata": {},
   "outputs": [],
   "source": [
    "import numpy as np\n",
    "\n",
    "class LogisticRegression:\n",
    "    def __init__(self, x , y):\n",
    "        self.x = x\n",
    "        self.y = y\n",
    "        self.m = 0\n",
    "        self.b = 0\n",
    "        self.n = len(x)\n",
    "         \n",
    "    def fit(self , epochs, lr):\n",
    "        for i in range(epochs):\n",
    "            linear = self.m * self.x + self.b\n",
    "            y_pred=self._sigmoid(linear)\n",
    "            D_m = (-2/self.n)*sum(self.x * (self.y - y_pred))\n",
    "            D_b = (-1/self.n)*sum(self.y-y_pred)\n",
    "            self.m -= lr * D_m\n",
    "            self.b -= lr * D_b\n",
    "    \n",
    "    def _sigmoid(self,x):\n",
    "        return 1/(1+np.exp(-x))\n",
    "    def predict(self,x):\n",
    "        linear_model=self.m*x+self.b\n",
    "        y_predicted=self._sigmoid(linear_model)\n",
    "        y_pred_arr=[1 if i>0.5 else 0 for i in y_predicted]\n",
    "        return np.array(y_pred_arr)"
   ]
  },
  {
   "cell_type": "code",
   "execution_count": 126,
   "id": "e66b7df4",
   "metadata": {},
   "outputs": [],
   "source": [
    "import matplotlib.pyplot as plt\n",
    "from sklearn.model_selection import train_test_split\n",
    "import pandas as pd\n",
    "from sklearn import linear_model"
   ]
  },
  {
   "cell_type": "code",
   "execution_count": 127,
   "id": "b26d30ab",
   "metadata": {},
   "outputs": [],
   "source": [
    "titanic=pd.read_csv(\"gender_submission.csv\")\n",
    "x=np.array(titanic.iloc[:,0])\n",
    "y=np.array(titanic.iloc[:,1])\n",
    "x_train,x_test,y_train,y_test=train_test_split(x,y,test_size=0.25,random_state=12)"
   ]
  },
  {
   "cell_type": "code",
   "execution_count": 128,
   "id": "747a8f5a",
   "metadata": {},
   "outputs": [
    {
     "name": "stderr",
     "output_type": "stream",
     "text": [
      "C:\\Users\\liyan\\AppData\\Local\\Temp\\ipykernel_4772\\3594061811.py:21: RuntimeWarning: overflow encountered in exp\n",
      "  return 1/(1+np.exp(-x))\n"
     ]
    }
   ],
   "source": [
    "regressor=LogisticRegression(x_train,y_train)\n",
    "regressor.fit(1000,0.001)\n",
    "predictions=regressor.predict(x_test)"
   ]
  },
  {
   "cell_type": "code",
   "execution_count": 129,
   "id": "8d134986",
   "metadata": {},
   "outputs": [
    {
     "name": "stdout",
     "output_type": "stream",
     "text": [
      "0.5619047619047619\n"
     ]
    }
   ],
   "source": [
    "def accuracy(y, y_hat):\n",
    "    accuracy = np.sum(y == y_hat) / len(y)\n",
    "    return accuracy\n",
    "print(accuracy(y_test,predictions))"
   ]
  },
  {
   "cell_type": "code",
   "execution_count": null,
   "id": "2d4007b9",
   "metadata": {},
   "outputs": [],
   "source": []
  }
 ],
 "metadata": {
  "kernelspec": {
   "display_name": "Python 3 (ipykernel)",
   "language": "python",
   "name": "python3"
  },
  "language_info": {
   "codemirror_mode": {
    "name": "ipython",
    "version": 3
   },
   "file_extension": ".py",
   "mimetype": "text/x-python",
   "name": "python",
   "nbconvert_exporter": "python",
   "pygments_lexer": "ipython3",
   "version": "3.10.5"
  }
 },
 "nbformat": 4,
 "nbformat_minor": 5
}
